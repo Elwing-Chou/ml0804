{
  "nbformat": 4,
  "nbformat_minor": 0,
  "metadata": {
    "colab": {
      "name": "tools.ipynb",
      "provenance": [],
      "private_outputs": true,
      "authorship_tag": "ABX9TyNVfOZu96x24JL3uKNXGTdP",
      "include_colab_link": true
    },
    "kernelspec": {
      "name": "python3",
      "display_name": "Python 3"
    }
  },
  "cells": [
    {
      "cell_type": "markdown",
      "metadata": {
        "id": "view-in-github",
        "colab_type": "text"
      },
      "source": [
        "<a href=\"https://colab.research.google.com/github/Elwing-Chou/ml0804/blob/master/tools.ipynb\" target=\"_parent\"><img src=\"https://colab.research.google.com/assets/colab-badge.svg\" alt=\"Open In Colab\"/></a>"
      ]
    },
    {
      "cell_type": "code",
      "metadata": {
        "id": "pZvc6GIV4az6",
        "colab_type": "code",
        "colab": {}
      },
      "source": [
        "!pip install opencc-python-reimplemented"
      ],
      "execution_count": null,
      "outputs": []
    },
    {
      "cell_type": "code",
      "metadata": {
        "id": "c-UKmLeO5pf5",
        "colab_type": "code",
        "colab": {}
      },
      "source": [
        "s = \"\"\"《红楼梦》，原名《石头记》，又名《金陵十二钗》等，是清代作家曹雪芹创作的章回体长篇小说，中国古典四大名著之首。小说以贾宝玉、林黛玉、薛宝钗三人爱情纠葛为主线，以贾、史、王、薛四大家族的荣辱兴衰为背景，浓缩了整个封建社会的时代内容，揭示出封建末世危机。此书影响流传甚广，享誉古今海内外。\"开谈不说《红楼梦》，读尽诗书也枉然。\"——清·得舆《京都竹枝词》\n",
        "曹雪芹（约1715—约1763年），名霑，字梦阮，号雪芹、芹圃、芹溪，清满洲正白旗人。曹雪芹一生跌宕起伏，\"生于繁华，终于沦落\"，将毕生心血倾注于《红楼梦》创作，是中国最伟大的文学家之一。《红楼梦》后四十回作者尚有争议，一般认为是高鹗所续。\n",
        "本书为简体中文版，全本120回，由艺雅出版社精心制作。艺雅出版社还分别提供其繁体中文版与简繁体对照版，欢迎大家下载阅读。\"\"\""
      ],
      "execution_count": null,
      "outputs": []
    },
    {
      "cell_type": "code",
      "metadata": {
        "id": "EHd38PUB5VS6",
        "colab_type": "code",
        "colab": {}
      },
      "source": [
        "from opencc import OpenCC\n",
        "cc = OpenCC('s2twp')\n",
        "convert = cc.convert(s)\n",
        "convert"
      ],
      "execution_count": null,
      "outputs": []
    },
    {
      "cell_type": "code",
      "metadata": {
        "id": "kHi8D20o6nU4",
        "colab_type": "code",
        "colab": {}
      },
      "source": [
        "import jieba\n",
        "from urllib.request import urlretrieve\n",
        "url = \"https://github.com/fxsjy/jieba/raw/master/extra_dict/dict.txt.big\"\n",
        "urlretrieve(url, \"dict.txt.big\")\n",
        "jieba.set_dictionary(\"dict.txt.big\")\n",
        "jieba.load_userdict(\"literature.txt\")\n",
        "\" \".join(jieba.cut(convert))"
      ],
      "execution_count": null,
      "outputs": []
    },
    {
      "cell_type": "code",
      "metadata": {
        "id": "v-MM0qGuZkXx",
        "colab_type": "code",
        "colab": {}
      },
      "source": [
        "import jieba.analyse\n",
        "jieba.analyse.extract_tags(convert)"
      ],
      "execution_count": null,
      "outputs": []
    }
  ]
}
{
  "nbformat": 4,
  "nbformat_minor": 0,
  "metadata": {
    "colab": {
      "name": "transfer.ipynb",
      "provenance": [],
      "private_outputs": true,
      "mount_file_id": "1wlA8CyPC_7-sdPm-Hq3MGhDva2iLc-TX",
      "authorship_tag": "ABX9TyNjaCQ5C/7fA3i/rjXh4YnW",
      "include_colab_link": true
    },
    "kernelspec": {
      "name": "python3",
      "display_name": "Python 3"
    },
    "accelerator": "GPU"
  },
  "cells": [
    {
      "cell_type": "markdown",
      "metadata": {
        "id": "view-in-github",
        "colab_type": "text"
      },
      "source": [
        "<a href=\"https://colab.research.google.com/github/Elwing-Chou/ml0804/blob/master/transfer.ipynb\" target=\"_parent\"><img src=\"https://colab.research.google.com/assets/colab-badge.svg\" alt=\"Open In Colab\"/></a>"
      ]
    },
    {
      "cell_type": "code",
      "metadata": {
        "id": "chum8wbEGKPp",
        "colab_type": "code",
        "colab": {}
      },
      "source": [
        "import zipfile\n",
        "z = zipfile.ZipFile(\"drive/My Drive/additional/train.zip\")\n",
        "z.extractall(\"transfer\")"
      ],
      "execution_count": null,
      "outputs": []
    },
    {
      "cell_type": "code",
      "metadata": {
        "id": "t5SZM2NYHH3O",
        "colab_type": "code",
        "colab": {}
      },
      "source": [
        "import glob\n",
        "import pandas as pd\n",
        "dogs = glob.glob(\"transfer/train/dog.*\")\n",
        "cats = glob.glob(\"transfer/train/cat.*\")\n",
        "df = pd.DataFrame({\n",
        "    \"path\":dogs + cats,\n",
        "    \"ans\":[0] * len(dogs) + [1] * len(cats)\n",
        "})\n",
        "df"
      ],
      "execution_count": null,
      "outputs": []
    }
  ]
}
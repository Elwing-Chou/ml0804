{
  "nbformat": 4,
  "nbformat_minor": 0,
  "metadata": {
    "colab": {
      "name": "transfer.ipynb",
      "provenance": [],
      "private_outputs": true,
      "mount_file_id": "1wlA8CyPC_7-sdPm-Hq3MGhDva2iLc-TX",
      "authorship_tag": "ABX9TyPS2/oV0+WDysvuXDmj5KH7",
      "include_colab_link": true
    },
    "kernelspec": {
      "name": "python3",
      "display_name": "Python 3"
    },
    "accelerator": "GPU"
  },
  "cells": [
    {
      "cell_type": "markdown",
      "metadata": {
        "id": "view-in-github",
        "colab_type": "text"
      },
      "source": [
        "<a href=\"https://colab.research.google.com/github/Elwing-Chou/ml0804/blob/master/transfer.ipynb\" target=\"_parent\"><img src=\"https://colab.research.google.com/assets/colab-badge.svg\" alt=\"Open In Colab\"/></a>"
      ]
    },
    {
      "cell_type": "code",
      "metadata": {
        "id": "chum8wbEGKPp",
        "colab_type": "code",
        "colab": {}
      },
      "source": [
        "import zipfile\n",
        "z = zipfile.ZipFile(\"drive/My Drive/additional/train.zip\")\n",
        "z.extractall(\"transfer\")"
      ],
      "execution_count": null,
      "outputs": []
    },
    {
      "cell_type": "code",
      "metadata": {
        "id": "t5SZM2NYHH3O",
        "colab_type": "code",
        "colab": {}
      },
      "source": [
        "import glob\n",
        "import pandas as pd\n",
        "dogs = glob.glob(\"transfer/train/dog.*\")\n",
        "cats = glob.glob(\"transfer/train/cat.*\")\n",
        "df = pd.DataFrame({\n",
        "    \"path\":dogs + cats,\n",
        "    \"ans\":[0] * len(dogs) + [1] * len(cats)\n",
        "})\n",
        "df"
      ],
      "execution_count": null,
      "outputs": []
    },
    {
      "cell_type": "code",
      "metadata": {
        "id": "IJ9VWb7OIDWg",
        "colab_type": "code",
        "colab": {}
      },
      "source": [
        "from tensorflow.keras.applications.vgg16 import VGG16\n",
        "vgg = VGG16(include_top=False, input_shape=(224, 224, 3))\n",
        "vgg.summary()"
      ],
      "execution_count": null,
      "outputs": []
    },
    {
      "cell_type": "code",
      "metadata": {
        "id": "Ziulm4r2I3uw",
        "colab_type": "code",
        "colab": {}
      },
      "source": [
        "from tensorflow.keras.layers import Dense, Flatten, Dropout, BatchNormalization\n",
        "from tensorflow.keras.models import Sequential\n",
        "mlp = [\n",
        "    BatchNormalization(),\n",
        "    Flatten(),\n",
        "    Dense(256, activation=\"relu\"),\n",
        "    Dropout(0.25),\n",
        "    Dense(2, activation=\"softmax\")\n",
        "]\n",
        "for l in vgg.layers:\n",
        "    l.trainable = False\n",
        "\n",
        "layers = vgg.layers + mlp\n",
        "model = Sequential(layers)\n",
        "model.summary()"
      ],
      "execution_count": null,
      "outputs": []
    },
    {
      "cell_type": "code",
      "metadata": {
        "id": "VdIytNHtKNgZ",
        "colab_type": "code",
        "colab": {}
      },
      "source": [
        "from tensorflow.keras.losses import SparseCategoricalCrossentropy\n",
        "model.compile(loss=SparseCategoricalCrossentropy(),\n",
        "       optimizer=\"adam\",\n",
        "       metrics=[\"accuracy\"])"
      ],
      "execution_count": null,
      "outputs": []
    },
    {
      "cell_type": "code",
      "metadata": {
        "id": "bSB1aMU1KU0k",
        "colab_type": "code",
        "colab": {}
      },
      "source": [
        "# https://github.com/keras-team/keras-applications/blob/master/keras_applications/imagenet_utils.py\n",
        "import matplotlib.pyplot as plt\n",
        "import numpy as np\n",
        "from tensorflow.keras.preprocessing.image import load_img\n",
        "from tensorflow.keras.applications.vgg16 import preprocess_input\n",
        "\n",
        "img = load_img(df[\"path\"][0], target_size=(224, 224))\n",
        "p = preprocess_input(np.array(img))\n",
        "print(p)\n",
        "plt.imshow(img)"
      ],
      "execution_count": null,
      "outputs": []
    },
    {
      "cell_type": "code",
      "metadata": {
        "id": "RCh_gbioYI3g",
        "colab_type": "code",
        "colab": {}
      },
      "source": [
        "# 千萬別直接把df拿來train_test_split\n",
        "# 只要開始資料處理, 唯一認可numpy array\n",
        "from sklearn.model_selection import train_test_split\n",
        "x, y = np.array(df[\"path\"]), np.array(df[\"ans\"])\n",
        "x_train, x_test, y_train, y_test = train_test_split(x, y, test_size=0.1)\n",
        "print(x_train.shape, x_test.shape)"
      ],
      "execution_count": null,
      "outputs": []
    },
    {
      "cell_type": "code",
      "metadata": {
        "id": "4VbOLaNfVxC9",
        "colab_type": "code",
        "colab": {}
      },
      "source": [
        "def getdata(x, y, batch=20):\n",
        "    idx = np.random.randint(0, x.shape[0], size=batch)\n",
        "    paths, ans = x[idx], y[idx]\n",
        "    ori_imgs, pre_imgs = [], []\n",
        "    for p in paths:\n",
        "        img = load_img(p, target_size=(224, 224))\n",
        "        img_np = np.array(img)\n",
        "        ori_imgs.append(img_np)\n",
        "        preprocess = preprocess_input(img_np)\n",
        "        pre_imgs.append(preprocess)\n",
        "    return (np.array(ori_imgs), np.array(pre_imgs), np.array(ans))"
      ],
      "execution_count": null,
      "outputs": []
    },
    {
      "cell_type": "code",
      "metadata": {
        "id": "g2cyVQhtawZV",
        "colab_type": "code",
        "colab": {}
      },
      "source": [
        "for i in range(20):\n",
        "    print(\"-\" * 15, i, \"-\" * 15)\n",
        "    ori, pre, ans = getdata(x_train, y_train)\n",
        "    result = model.train_on_batch(pre, ans)\n",
        "    print(\"[train]:\", result)\n",
        "    ori, pre, ans = getdata(x_test, y_test, 100)\n",
        "    result = model.test_on_batch(pre, ans)\n",
        "    print(\"[validate]:\", result)"
      ],
      "execution_count": null,
      "outputs": []
    },
    {
      "cell_type": "code",
      "metadata": {
        "id": "s1x0PcICcYkn",
        "colab_type": "code",
        "colab": {}
      },
      "source": [
        "# model.predict(pre)\n",
        "ori, pre, ans = getdata(x_test, y_test, 1000)\n",
        "model.evaluate(pre, ans)"
      ],
      "execution_count": null,
      "outputs": []
    }
  ]
}
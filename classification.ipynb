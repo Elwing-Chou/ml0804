{
  "nbformat": 4,
  "nbformat_minor": 0,
  "metadata": {
    "colab": {
      "name": "classification.ipynb",
      "provenance": [],
      "private_outputs": true,
      "collapsed_sections": [],
      "authorship_tag": "ABX9TyNsQ4yr5IrpsBu+Nz0S5a2c",
      "include_colab_link": true
    },
    "kernelspec": {
      "name": "python3",
      "display_name": "Python 3"
    },
    "accelerator": "GPU"
  },
  "cells": [
    {
      "cell_type": "markdown",
      "metadata": {
        "id": "view-in-github",
        "colab_type": "text"
      },
      "source": [
        "<a href=\"https://colab.research.google.com/github/Elwing-Chou/ml0804/blob/master/classification.ipynb\" target=\"_parent\"><img src=\"https://colab.research.google.com/assets/colab-badge.svg\" alt=\"Open In Colab\"/></a>"
      ]
    },
    {
      "cell_type": "code",
      "metadata": {
        "id": "RuU2x-jdIUgq",
        "colab_type": "code",
        "colab": {}
      },
      "source": [
        "import pandas as pd\n",
        "from sklearn.datasets import load_iris\n",
        "iris = load_iris()\n",
        "df = pd.DataFrame(iris[\"data\"], columns=iris[\"feature_names\"])\n",
        "df[\"ans\"] = iris[\"target\"]\n",
        "df"
      ],
      "execution_count": null,
      "outputs": []
    },
    {
      "cell_type": "code",
      "metadata": {
        "id": "dY9wB1H_RiTe",
        "colab_type": "code",
        "colab": {}
      },
      "source": [
        "x = df.drop([\"ans\"], axis=1)\n",
        "y = df[\"ans\"]"
      ],
      "execution_count": null,
      "outputs": []
    },
    {
      "cell_type": "code",
      "metadata": {
        "id": "yur1DiS8Qvvt",
        "colab_type": "code",
        "colab": {}
      },
      "source": [
        "from sklearn.model_selection import train_test_split\n",
        "# [x_train, x_test, y_train, y_test]\n",
        "x_train, x_test, y_train, y_test = train_test_split(x, y, test_size=0.1, random_state=0)\n",
        "x_train"
      ],
      "execution_count": null,
      "outputs": []
    },
    {
      "cell_type": "code",
      "metadata": {
        "id": "UIKv2bURVW39",
        "colab_type": "code",
        "colab": {}
      },
      "source": [
        "from sklearn.tree import DecisionTreeClassifier\n",
        "clf = DecisionTreeClassifier()\n",
        "clf.fit(x_train, y_train)"
      ],
      "execution_count": null,
      "outputs": []
    },
    {
      "cell_type": "code",
      "metadata": {
        "id": "H99-vqFPWWtx",
        "colab_type": "code",
        "colab": {}
      },
      "source": [
        "import graphviz\n",
        "from sklearn.tree import export_graphviz\n",
        "g = export_graphviz(clf, \n",
        "           feature_names=x.columns, \n",
        "           class_names=iris[\"target_names\"], \n",
        "           filled=True)\n",
        "graphviz.Source(g)"
      ],
      "execution_count": null,
      "outputs": []
    }
  ]
}
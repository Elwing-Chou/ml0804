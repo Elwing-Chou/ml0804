{
  "nbformat": 4,
  "nbformat_minor": 0,
  "metadata": {
    "colab": {
      "name": "sentiment.ipynb",
      "provenance": [],
      "private_outputs": true,
      "authorship_tag": "ABX9TyMZrM+o/RHX6UDHiTcpzigb",
      "include_colab_link": true
    },
    "kernelspec": {
      "name": "python3",
      "display_name": "Python 3"
    },
    "accelerator": "GPU"
  },
  "cells": [
    {
      "cell_type": "markdown",
      "metadata": {
        "id": "view-in-github",
        "colab_type": "text"
      },
      "source": [
        "<a href=\"https://colab.research.google.com/github/Elwing-Chou/ml0804/blob/master/sentiment.ipynb\" target=\"_parent\"><img src=\"https://colab.research.google.com/assets/colab-badge.svg\" alt=\"Open In Colab\"/></a>"
      ]
    },
    {
      "cell_type": "code",
      "metadata": {
        "id": "OOgaGmV3JxvS",
        "colab_type": "code",
        "colab": {}
      },
      "source": [
        "import tensorflow as tf\n",
        "\n",
        "dataset = tf.keras.utils.get_file(\n",
        "    fname=\"aclImdb.tar.gz\", \n",
        "    origin=\"http://ai.stanford.edu/~amaas/data/sentiment/aclImdb_v1.tar.gz\", \n",
        "    extract=True,\n",
        ")\n",
        "print(\"extract on:\", dataset)"
      ],
      "execution_count": null,
      "outputs": []
    },
    {
      "cell_type": "code",
      "metadata": {
        "id": "AXLG6BVRLBzr",
        "colab_type": "code",
        "colab": {}
      },
      "source": [
        "import glob\n",
        "import pandas as pd\n",
        "import os\n",
        "def getdata(dataset, t):\n",
        "    dn = os.path.dirname(dataset)\n",
        "    dn = os.path.join(dn, \"aclImdb\", t)\n",
        "    pos = glob.glob(os.path.join(dn, \"pos\", \"*.txt\")) + glob.glob(os.path.join(dn, \"pos\", \"*.TXT\"))\n",
        "    neg = glob.glob(os.path.join(dn, \"neg\", \"*.txt\")) + glob.glob(os.path.join(dn, \"neg\", \"*.TXT\"))\n",
        "    contents = []\n",
        "    for fn in pos + neg:\n",
        "        with open(fn, encoding=\"utf-8\") as f:\n",
        "            contents.append(f.read())\n",
        "    df = pd.DataFrame({\n",
        "        \"content\":contents,\n",
        "        \"sentiment\":[1] * len(pos) + [0] * len(neg)\n",
        "    })\n",
        "    return df\n",
        "train_df = getdata(dataset, \"train\")\n",
        "test_df = getdata(dataset, \"test\")\n",
        "train_df"
      ],
      "execution_count": null,
      "outputs": []
    },
    {
      "cell_type": "code",
      "metadata": {
        "id": "I0RjDnWbOHGK",
        "colab_type": "code",
        "colab": {}
      },
      "source": [
        "test_df"
      ],
      "execution_count": null,
      "outputs": []
    },
    {
      "cell_type": "code",
      "metadata": {
        "id": "S0Lqe2OLRccb",
        "colab_type": "code",
        "colab": {}
      },
      "source": [
        "# (中文): 分詞, 空白鍵.join()\n",
        "# 預處理第一步: tokenize(把詞和代表數字關係建立起來)\n",
        "from tensorflow.keras.preprocessing.text import Tokenizer\n",
        "tok = Tokenizer(num_words=3000)\n",
        "tok.fit_on_texts(train_df[\"content\"])"
      ],
      "execution_count": null,
      "outputs": []
    },
    {
      "cell_type": "code",
      "metadata": {
        "id": "VrZM3THBRd0s",
        "colab_type": "code",
        "colab": {}
      },
      "source": [
        "# token不會包括0(padding)\n",
        "# tok.word_index\n",
        "# len(tok.word_index)"
      ],
      "execution_count": null,
      "outputs": []
    },
    {
      "cell_type": "code",
      "metadata": {
        "id": "NL2TlXkrVxA7",
        "colab_type": "code",
        "colab": {}
      },
      "source": [
        "# 第二步: to sequence(真的把詞轉成數字)\n",
        "x_train_seq = tok.texts_to_sequences(train_df[\"content\"])\n",
        "x_test_seq = tok.texts_to_sequences(test_df[\"content\"])\n",
        "pd.DataFrame(x_train_seq)"
      ],
      "execution_count": null,
      "outputs": []
    },
    {
      "cell_type": "code",
      "metadata": {
        "id": "9VZXDPslX12p",
        "colab_type": "code",
        "colab": {}
      },
      "source": [
        "# 第三部: 截長補短\n",
        "from tensorflow.keras.preprocessing.sequence import pad_sequences\n",
        "x_train_pad = pad_sequences(x_train_seq, maxlen=512)\n",
        "x_test_pad = pad_sequences(x_test_seq, maxlen=512)\n",
        "pd.DataFrame(x_train_pad)"
      ],
      "execution_count": null,
      "outputs": []
    },
    {
      "cell_type": "code",
      "metadata": {
        "id": "uI-ckISIc_Al",
        "colab_type": "code",
        "colab": {}
      },
      "source": [
        "from tensorflow.keras.layers import Embedding\n",
        "from tensorflow.keras.layers import Dense, Dropout, Flatten, Lambda, GlobalAveragePooling1D\n",
        "from tensorflow.keras.models import Sequential\n",
        "layers = [\n",
        "    # Embedding(進來有幾種, 出來情緒有幾種)\n",
        "    # 3001 * 128\n",
        "    Embedding(3001, 256, mask_zero=True, input_length=512),\n",
        "    GlobalAveragePooling1D(),\n",
        "    Dense(2, activation=\"softmax\")\n",
        "]\n",
        "model = Sequential(layers)\n",
        "model.summary()"
      ],
      "execution_count": null,
      "outputs": []
    },
    {
      "cell_type": "code",
      "metadata": {
        "id": "5EGb3Qk1iwEA",
        "colab_type": "code",
        "colab": {}
      },
      "source": [
        "from tensorflow.keras.losses import SparseCategoricalCrossentropy\n",
        "model.compile(loss=SparseCategoricalCrossentropy(),\n",
        "       optimizer=\"adam\",\n",
        "       metrics=[\"accuracy\"])"
      ],
      "execution_count": null,
      "outputs": []
    },
    {
      "cell_type": "code",
      "metadata": {
        "id": "L7bgivVojGgL",
        "colab_type": "code",
        "colab": {}
      },
      "source": [
        "import numpy as np\n",
        "y_train = np.array(train_df[\"sentiment\"])\n",
        "y_test = np.array(test_df[\"sentiment\"])"
      ],
      "execution_count": null,
      "outputs": []
    },
    {
      "cell_type": "code",
      "metadata": {
        "id": "A1khJ0czi76G",
        "colab_type": "code",
        "colab": {}
      },
      "source": [
        "# batch:看幾筆在調整一次(20-200)\n",
        "# epochs:整份訓練資料看幾遍 (10->60000*10)\n",
        "# verbose: 0(quiet) 1(default) 2(我喜歡的)\n",
        "from tensorflow.keras.callbacks import ModelCheckpoint, EarlyStopping\n",
        "callbacks = [\n",
        "    ModelCheckpoint(\"sentiment.h5\", save_best_only=True),\n",
        "    EarlyStopping(patience=5, restore_best_weights=True)\n",
        "]\n",
        "model.fit(x_train_pad,\n",
        "     y_train,\n",
        "     validation_split=0.1,\n",
        "     batch_size=200,\n",
        "     epochs=100,\n",
        "     verbose=2,\n",
        "     callbacks=callbacks)"
      ],
      "execution_count": null,
      "outputs": []
    },
    {
      "cell_type": "code",
      "metadata": {
        "id": "JyA2yuBiji66",
        "colab_type": "code",
        "colab": {}
      },
      "source": [
        "model.evaluate(x_test_pad, y_test)"
      ],
      "execution_count": null,
      "outputs": []
    },
    {
      "cell_type": "code",
      "metadata": {
        "id": "YO7v3N70nsKW",
        "colab_type": "code",
        "colab": {}
      },
      "source": [
        "newl = [\n",
        "  Embedding(3001, 256, mask_zero=True, input_length=1)  \n",
        "]\n",
        "newmodel = Sequential(newl)\n",
        "w = model.layers[0].get_weights()\n",
        "newmodel.layers[0].set_weights(w)\n",
        "n = tok.word_index[\"the\"]\n",
        "print(\"the長這樣:\", newmodel.predict([[n]]))"
      ],
      "execution_count": null,
      "outputs": []
    }
  ]
}
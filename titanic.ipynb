{
  "nbformat": 4,
  "nbformat_minor": 0,
  "metadata": {
    "colab": {
      "name": "titanic.ipynb",
      "provenance": [],
      "private_outputs": true,
      "authorship_tag": "ABX9TyMcY0z5gDviYcv9Kx8DiWSB",
      "include_colab_link": true
    },
    "kernelspec": {
      "name": "python3",
      "display_name": "Python 3"
    }
  },
  "cells": [
    {
      "cell_type": "markdown",
      "metadata": {
        "id": "view-in-github",
        "colab_type": "text"
      },
      "source": [
        "<a href=\"https://colab.research.google.com/github/Elwing-Chou/ml0804/blob/master/titanic.ipynb\" target=\"_parent\"><img src=\"https://colab.research.google.com/assets/colab-badge.svg\" alt=\"Open In Colab\"/></a>"
      ]
    },
    {
      "cell_type": "code",
      "metadata": {
        "id": "DOmTSWhzOGat",
        "colab_type": "code",
        "colab": {}
      },
      "source": [
        "from urllib.request import urlretrieve\n",
        "url = \"https://github.com/Elwing-Chou/ml0804/raw/master/train.csv\"\n",
        "urlretrieve(url, \"train.csv\")\n",
        "url = \"https://github.com/Elwing-Chou/ml0804/raw/master/test.csv\"\n",
        "urlretrieve(url, \"test.csv\")"
      ],
      "execution_count": null,
      "outputs": []
    },
    {
      "cell_type": "code",
      "metadata": {
        "id": "pWVRf5liOWVw",
        "colab_type": "code",
        "colab": {}
      },
      "source": [
        "import pandas as pd\n",
        "train_df = pd.read_csv(\"train.csv\", encoding=\"utf-8\")\n",
        "train_df"
      ],
      "execution_count": null,
      "outputs": []
    },
    {
      "cell_type": "code",
      "metadata": {
        "id": "uOiROJfsOjnu",
        "colab_type": "code",
        "colab": {}
      },
      "source": [
        "test_df = pd.read_csv(\"test.csv\", encoding=\"utf-8\")\n",
        "test_df"
      ],
      "execution_count": null,
      "outputs": []
    },
    {
      "cell_type": "code",
      "metadata": {
        "id": "JmPenGKrPh-A",
        "colab_type": "code",
        "colab": {}
      },
      "source": [
        "# concat: axis!!!\n",
        "import pandas as pd\n",
        "datas = pd.concat([train_df, test_df]).reset_index(drop=True)\n",
        "datas = datas.drop([\"PassengerId\", \"Survived\"], axis=1)\n",
        "datas"
      ],
      "execution_count": null,
      "outputs": []
    },
    {
      "cell_type": "code",
      "metadata": {
        "id": "J0Q9a9JQRO77",
        "colab_type": "code",
        "colab": {}
      },
      "source": [
        "# 篩選操作 df[[True, False, True]]\n",
        "s = datas.isna().sum() \n",
        "s[s > 0].sort_values(ascending=False)"
      ],
      "execution_count": null,
      "outputs": []
    },
    {
      "cell_type": "code",
      "metadata": {
        "id": "ilJu7tGLaa57",
        "colab_type": "code",
        "colab": {}
      },
      "source": [
        "# unique/value_counts\n",
        "# 類別請補最常出現\n",
        "most = datas[\"Embarked\"].value_counts().idxmax()\n",
        "datas[\"Embarked\"] = datas[\"Embarked\"].fillna(most)"
      ],
      "execution_count": null,
      "outputs": []
    },
    {
      "cell_type": "code",
      "metadata": {
        "id": "VUwGwt9nbWTi",
        "colab_type": "code",
        "colab": {}
      },
      "source": [
        "# 數值請補中位數\n",
        "med = datas.median().drop([\"Pclass\"])\n",
        "datas = datas.fillna(med)"
      ],
      "execution_count": null,
      "outputs": []
    },
    {
      "cell_type": "code",
      "metadata": {
        "id": "lYJGFkehgxeG",
        "colab_type": "code",
        "colab": {}
      },
      "source": [
        "# apply: \n",
        "def cabin(s):\n",
        "    if not pd.isna(s):\n",
        "        return s[0]\n",
        "    else:\n",
        "        return None\n",
        "datas[\"Cabin\"] = datas[\"Cabin\"].apply(cabin)"
      ],
      "execution_count": null,
      "outputs": []
    }
  ]
}
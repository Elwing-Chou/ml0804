{
  "nbformat": 4,
  "nbformat_minor": 0,
  "metadata": {
    "colab": {
      "name": "titanic.ipynb",
      "provenance": [],
      "private_outputs": true,
      "authorship_tag": "ABX9TyNDsa/eADXcHnPPas2OtUwh",
      "include_colab_link": true
    },
    "kernelspec": {
      "name": "python3",
      "display_name": "Python 3"
    }
  },
  "cells": [
    {
      "cell_type": "markdown",
      "metadata": {
        "id": "view-in-github",
        "colab_type": "text"
      },
      "source": [
        "<a href=\"https://colab.research.google.com/github/Elwing-Chou/ml0804/blob/master/titanic.ipynb\" target=\"_parent\"><img src=\"https://colab.research.google.com/assets/colab-badge.svg\" alt=\"Open In Colab\"/></a>"
      ]
    },
    {
      "cell_type": "code",
      "metadata": {
        "id": "DOmTSWhzOGat",
        "colab_type": "code",
        "colab": {}
      },
      "source": [
        "from urllib.request import urlretrieve\n",
        "url = \"https://github.com/Elwing-Chou/ml0804/raw/master/train.csv\"\n",
        "urlretrieve(url, \"train.csv\")\n",
        "url = \"https://github.com/Elwing-Chou/ml0804/raw/master/test.csv\"\n",
        "urlretrieve(url, \"test.csv\")"
      ],
      "execution_count": null,
      "outputs": []
    },
    {
      "cell_type": "code",
      "metadata": {
        "id": "pWVRf5liOWVw",
        "colab_type": "code",
        "colab": {}
      },
      "source": [
        "import pandas as pd\n",
        "train_df = pd.read_csv(\"train.csv\", encoding=\"utf-8\")\n",
        "train_df"
      ],
      "execution_count": null,
      "outputs": []
    },
    {
      "cell_type": "code",
      "metadata": {
        "id": "uOiROJfsOjnu",
        "colab_type": "code",
        "colab": {}
      },
      "source": [
        "test_df = pd.read_csv(\"test.csv\", encoding=\"utf-8\")\n",
        "test_df"
      ],
      "execution_count": null,
      "outputs": []
    },
    {
      "cell_type": "code",
      "metadata": {
        "id": "JmPenGKrPh-A",
        "colab_type": "code",
        "colab": {}
      },
      "source": [
        "# concat: axis!!!\n",
        "import pandas as pd\n",
        "datas = pd.concat([train_df, test_df]).reset_index(drop=True)\n",
        "datas = datas.drop([\"PassengerId\", \"Survived\"], axis=1)\n",
        "datas"
      ],
      "execution_count": null,
      "outputs": []
    },
    {
      "cell_type": "code",
      "metadata": {
        "id": "J0Q9a9JQRO77",
        "colab_type": "code",
        "colab": {}
      },
      "source": [
        "# 篩選操作 df[[True, False, True]]\n",
        "s = datas.isna().sum() \n",
        "s[s > 0].sort_values(ascending=False)"
      ],
      "execution_count": null,
      "outputs": []
    },
    {
      "cell_type": "code",
      "metadata": {
        "id": "ilJu7tGLaa57",
        "colab_type": "code",
        "colab": {}
      },
      "source": [
        "# unique/value_counts\n",
        "# 類別請補最常出現\n",
        "most = datas[\"Embarked\"].value_counts().idxmax()\n",
        "datas[\"Embarked\"] = datas[\"Embarked\"].fillna(most)"
      ],
      "execution_count": null,
      "outputs": []
    },
    {
      "cell_type": "code",
      "metadata": {
        "id": "VUwGwt9nbWTi",
        "colab_type": "code",
        "colab": {}
      },
      "source": [
        "# 數值請補中位數\n",
        "med = datas.median().drop([\"Pclass\"])\n",
        "datas = datas.fillna(med)"
      ],
      "execution_count": null,
      "outputs": []
    },
    {
      "cell_type": "code",
      "metadata": {
        "id": "lYJGFkehgxeG",
        "colab_type": "code",
        "colab": {}
      },
      "source": [
        "# apply: \n",
        "def cabin(s):\n",
        "    if not pd.isna(s):\n",
        "        return s[0]\n",
        "    else:\n",
        "        return None\n",
        "datas[\"Cabin\"] = datas[\"Cabin\"].apply(cabin)"
      ],
      "execution_count": null,
      "outputs": []
    },
    {
      "cell_type": "code",
      "metadata": {
        "id": "0gVawmyciA9w",
        "colab_type": "code",
        "colab": {}
      },
      "source": [
        "# 多少人持有同樣名字的票\n",
        "v = datas[\"Ticket\"].value_counts()\n",
        "def ticket(s):\n",
        "    global v\n",
        "    return v[s]\n",
        "datas[\"Ticket\"] = datas[\"Ticket\"].apply(ticket)"
      ],
      "execution_count": null,
      "outputs": []
    },
    {
      "cell_type": "code",
      "metadata": {
        "id": "sUUGy0Osjx-n",
        "colab_type": "code",
        "colab": {}
      },
      "source": [
        "def name(s):\n",
        "    return s.split(\".\")[0].split(\",\")[-1].strip()\n",
        "n = datas[\"Name\"].apply(name).value_counts()\n",
        "whitelist = n[:4]"
      ],
      "execution_count": null,
      "outputs": []
    },
    {
      "cell_type": "code",
      "metadata": {
        "id": "yVzD_B6vk9ED",
        "colab_type": "code",
        "colab": {}
      },
      "source": [
        "def name2(s):\n",
        "    mid = s.split(\".\")[0].split(\",\")[-1].strip()\n",
        "    if mid in whitelist:\n",
        "        return mid\n",
        "    else:\n",
        "        return None\n",
        "datas[\"Name\"] = datas[\"Name\"].apply(name2)\n",
        "datas"
      ],
      "execution_count": null,
      "outputs": []
    },
    {
      "cell_type": "code",
      "metadata": {
        "id": "hxZ7oDXSo7eV",
        "colab_type": "code",
        "colab": {}
      },
      "source": [
        "# columns=[\"Pclass\"]\n",
        "datas = pd.get_dummies(datas)\n",
        "datas"
      ],
      "execution_count": null,
      "outputs": []
    },
    {
      "cell_type": "code",
      "metadata": {
        "id": "qr_DS853uT9V",
        "colab_type": "code",
        "colab": {}
      },
      "source": [
        "datas[\"Family\"] = datas[\"SibSp\"] + datas[\"Parch\"]\n",
        "datas"
      ],
      "execution_count": null,
      "outputs": []
    },
    {
      "cell_type": "code",
      "metadata": {
        "id": "w3RXmm1pnFGP",
        "colab_type": "code",
        "colab": {}
      },
      "source": [
        "# .iloc: [第一列, 第二列, 第三列...]\n",
        "# 0~len-1\n",
        "x_train = datas.iloc[:len(train_df)]\n",
        "x_predict = datas.iloc[len(train_df):]\n",
        "y_train = train_df[\"Survived\"]"
      ],
      "execution_count": null,
      "outputs": []
    },
    {
      "cell_type": "code",
      "metadata": {
        "id": "6kpzdgdOyAqy",
        "colab_type": "code",
        "colab": {}
      },
      "source": [
        "from sklearn.ensemble import RandomForestClassifier\n",
        "from sklearn.model_selection import GridSearchCV\n",
        "clf = RandomForestClassifier(random_state=0)\n",
        "params = {\n",
        "    \"n_estimators\":range(20, 100),\n",
        "    \"max_depth\":range(5, 10)\n",
        "}\n",
        "grid = GridSearchCV(clf, params, cv=10, n_jobs=-1)\n",
        "grid.fit(x_train, y_train)\n",
        "print(grid.best_params_)\n",
        "print(grid.best_score_)"
      ],
      "execution_count": null,
      "outputs": []
    },
    {
      "cell_type": "code",
      "metadata": {
        "id": "RT6P14hpop7p",
        "colab_type": "code",
        "colab": {}
      },
      "source": [
        "from sklearn.model_selection import cross_val_score\n",
        "import numpy as np\n",
        "clf = RandomForestClassifier(n_estimators=20, max_depth=5, random_state=0)\n",
        "scores = cross_val_score(clf, x_train, y_train, cv=10, n_jobs=-1)\n",
        "print(\"[10]:\", scores)\n",
        "print(\"average:\", np.average(scores))"
      ],
      "execution_count": null,
      "outputs": []
    }
  ]
}
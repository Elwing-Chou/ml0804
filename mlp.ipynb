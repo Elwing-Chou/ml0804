{
  "nbformat": 4,
  "nbformat_minor": 0,
  "metadata": {
    "colab": {
      "name": "mlp.ipynb",
      "provenance": [],
      "private_outputs": true,
      "authorship_tag": "ABX9TyPHN9MYa54+n8+pU5I2PYY2",
      "include_colab_link": true
    },
    "kernelspec": {
      "name": "python3",
      "display_name": "Python 3"
    }
  },
  "cells": [
    {
      "cell_type": "markdown",
      "metadata": {
        "id": "view-in-github",
        "colab_type": "text"
      },
      "source": [
        "<a href=\"https://colab.research.google.com/github/Elwing-Chou/ml0804/blob/master/mlp.ipynb\" target=\"_parent\"><img src=\"https://colab.research.google.com/assets/colab-badge.svg\" alt=\"Open In Colab\"/></a>"
      ]
    },
    {
      "cell_type": "code",
      "metadata": {
        "id": "ysXpuKZ7WOZL",
        "colab_type": "code",
        "colab": {}
      },
      "source": [
        "from tensorflow.keras.datasets.mnist import load_data\n",
        "# ((訓練圖片, 訓練答案), (驗證圖片, 驗證答案))\n",
        "(x_train, y_train), (x_test, y_test) = load_data()"
      ],
      "execution_count": null,
      "outputs": []
    },
    {
      "cell_type": "code",
      "metadata": {
        "id": "4Qzr6bMokG6P",
        "colab_type": "code",
        "colab": {}
      },
      "source": [
        "print(x_train.shape)\n",
        "print(y_train.shape)\n",
        "print(x_test.shape)\n",
        "print(y_test.shape)"
      ],
      "execution_count": null,
      "outputs": []
    },
    {
      "cell_type": "code",
      "metadata": {
        "id": "SKH3rS9zkArE",
        "colab_type": "code",
        "colab": {}
      },
      "source": [
        "# https://matplotlib.org/3.1.0/tutorials/colors/colormaps.html\n",
        "import matplotlib.pyplot as plt\n",
        "import random\n",
        "idx = random.randint(0, 59999)\n",
        "print(y_train[idx])\n",
        "# cmap=\"gray\"\n",
        "plt.imshow(x_train[idx], cmap=\"Reds_r\")"
      ],
      "execution_count": null,
      "outputs": []
    },
    {
      "cell_type": "code",
      "metadata": {
        "id": "k046MbCEkrb8",
        "colab_type": "code",
        "colab": {}
      },
      "source": [
        "import pandas as pd\n",
        "pd.DataFrame(x_train[idx])"
      ],
      "execution_count": null,
      "outputs": []
    },
    {
      "cell_type": "code",
      "metadata": {
        "id": "7g_eatYor-ow",
        "colab_type": "code",
        "colab": {}
      },
      "source": [
        "from tensorflow.keras.layers import Dense\n",
        "from tensorflow.keras.models import Sequential\n",
        "layers = [\n",
        "    # 784 * 128 + 128(bias)\n",
        "    Dense(256, activation=\"relu\", input_dim=784),\n",
        "    # 128 * 10(連線個數) + 10(bias)\n",
        "    Dense(10, activation=\"softmax\")\n",
        "]\n",
        "model = Sequential(layers)\n",
        "model.summary()"
      ],
      "execution_count": null,
      "outputs": []
    },
    {
      "cell_type": "code",
      "metadata": {
        "id": "qIdnG85uLQ4x",
        "colab_type": "code",
        "colab": {}
      },
      "source": [
        "# 交叉商: p1 * log(1/q1) + p2 * log(1/q2)....\n",
        "# 多個: Categorical CrossEntropy\n",
        "# 一個: Binary CrossEntropy p * log(1/q) + (1-p) * log(1/1-q)\n",
        "from tensorflow.keras.losses import CategoricalCrossentropy\n",
        "model.compile(loss=CategoricalCrossentropy(),\n",
        "       optimizer=\"adam\",\n",
        "       metrics=[\"accuracy\"])"
      ],
      "execution_count": null,
      "outputs": []
    },
    {
      "cell_type": "code",
      "metadata": {
        "id": "2TpQ4QUXTRMJ",
        "colab_type": "code",
        "colab": {}
      },
      "source": [
        "# 資料處理: y\n",
        "from tensorflow.keras.utils import to_categorical\n",
        "y_train_cat = to_categorical(y_train, 10)\n",
        "y_test_cat = to_categorical(y_test, 10)\n",
        "print(y_train[0])\n",
        "print(y_train_cat[0])"
      ],
      "execution_count": null,
      "outputs": []
    },
    {
      "cell_type": "code",
      "metadata": {
        "id": "E_hBM9yfUIFY",
        "colab_type": "code",
        "colab": {}
      },
      "source": [
        "# 資料處理: x\n",
        "# reshape: -1(numpy會幫你算該等於多少, 只能一個)\n",
        "x_train_norm = x_train.reshape(-1, 784) / 255\n",
        "x_test_norm = x_test.reshape(-1, 784) / 255\n",
        "print(x_train_norm.shape)\n",
        "print(x_test_norm.shape)"
      ],
      "execution_count": null,
      "outputs": []
    },
    {
      "cell_type": "code",
      "metadata": {
        "id": "-_QD06K4L2R8",
        "colab_type": "code",
        "colab": {}
      },
      "source": [
        "# batch:看幾筆在調整一次(20-200)\n",
        "# epochs:整份訓練資料看幾遍 (10->60000*10)\n",
        "# verbose: 0(quiet) 1(default) 2(我喜歡的)\n",
        "from tensorflow.keras.callbacks import ModelCheckpoint, EarlyStopping\n",
        "callbacks = [\n",
        "    ModelCheckpoint(\"mlp.h5\", save_best_only=True),\n",
        "    EarlyStopping(patience=5, restore_best_weights=True)\n",
        "]\n",
        "model.fit(x_train_norm,\n",
        "     y_train_cat,\n",
        "     validation_split=0.1,\n",
        "     batch_size=200,\n",
        "     epochs=100,\n",
        "     verbose=2,\n",
        "     callbacks=callbacks)"
      ],
      "execution_count": null,
      "outputs": []
    },
    {
      "cell_type": "code",
      "metadata": {
        "id": "SnRbV5raex-y",
        "colab_type": "code",
        "colab": {}
      },
      "source": [
        "model.evaluate(x_test_norm, y_test_cat)"
      ],
      "execution_count": null,
      "outputs": []
    },
    {
      "cell_type": "code",
      "metadata": {
        "id": "efwYX52Oi3gv",
        "colab_type": "code",
        "colab": {}
      },
      "source": [
        "from sklearn.metrics import confusion_matrix\n",
        "pre = model.predict_classes(x_test_norm)\n",
        "mat = confusion_matrix(y_test, pre)\n",
        "pd.DataFrame(mat, \n",
        "       columns=[\"{}(預測)\".format(i) for i in range(10)],\n",
        "       index=[\"{}(真實)\".format(i) for i in range(10)])"
      ],
      "execution_count": null,
      "outputs": []
    },
    {
      "cell_type": "code",
      "metadata": {
        "id": "rLASA-YqkFdZ",
        "colab_type": "code",
        "colab": {}
      },
      "source": [
        "import numpy as np\n",
        "idx = np.nonzero(pre != y_test)[0]\n",
        "img, label, pred = x_test[idx], y_test[idx], pre[idx]\n",
        "\n",
        "plt.figure(figsize=(14, 42))\n",
        "width = 10\n",
        "height = len(img) // width + 1\n",
        "for i in range(len(img)):\n",
        "    plt.subplot(height, width, i+1)\n",
        "    t = \"[T]:{}\\n[P]:{}\".format(label[i], pred[i])\n",
        "    plt.title(t)\n",
        "    plt.axis(\"off\")\n",
        "    plt.imshow(img[i], cmap=\"Reds_r\")"
      ],
      "execution_count": null,
      "outputs": []
    },
    {
      "cell_type": "code",
      "metadata": {
        "id": "SeaRDzRZninr",
        "colab_type": "code",
        "colab": {}
      },
      "source": [
        "# https://pillow.readthedocs.io/en/5.1.x/handbook/concepts.html#concept-modes\n",
        "from tensorflow.keras.preprocessing.image import load_img\n",
        "fn = input(\"檔名:\")\n",
        "img = load_img(fn, target_size=(28, 28)).convert(\"L\")\n",
        "img_norm = np.array(img).reshape(1, 784) / 255\n",
        "ans = model.predict_classes(img_norm)\n",
        "print(\"答案:\", ans[0])\n",
        "prob = model.predict(img_norm)[0]\n",
        "for i, p in enumerate(prob):\n",
        "    print(i, \"的機率:\", round(p, 3))\n",
        "plt.imshow(img, cmap=\"gray\")"
      ],
      "execution_count": null,
      "outputs": []
    }
  ]
}
{
  "nbformat": 4,
  "nbformat_minor": 0,
  "metadata": {
    "colab": {
      "name": "mlp.ipynb",
      "provenance": [],
      "private_outputs": true,
      "authorship_tag": "ABX9TyOsVDT1NHpV1qvP87xKmHSO",
      "include_colab_link": true
    },
    "kernelspec": {
      "name": "python3",
      "display_name": "Python 3"
    }
  },
  "cells": [
    {
      "cell_type": "markdown",
      "metadata": {
        "id": "view-in-github",
        "colab_type": "text"
      },
      "source": [
        "<a href=\"https://colab.research.google.com/github/Elwing-Chou/ml0804/blob/master/mlp.ipynb\" target=\"_parent\"><img src=\"https://colab.research.google.com/assets/colab-badge.svg\" alt=\"Open In Colab\"/></a>"
      ]
    },
    {
      "cell_type": "code",
      "metadata": {
        "id": "ysXpuKZ7WOZL",
        "colab_type": "code",
        "colab": {}
      },
      "source": [
        "from tensorflow.keras.datasets.mnist import load_data\n",
        "# ((訓練圖片, 訓練答案), (驗證圖片, 驗證答案))\n",
        "(x_train, y_train), (x_test, y_test) = load_data()"
      ],
      "execution_count": null,
      "outputs": []
    },
    {
      "cell_type": "code",
      "metadata": {
        "id": "4Qzr6bMokG6P",
        "colab_type": "code",
        "colab": {}
      },
      "source": [
        "print(x_train.shape)\n",
        "print(y_train.shape)\n",
        "print(x_test.shape)\n",
        "print(y_test.shape)"
      ],
      "execution_count": null,
      "outputs": []
    },
    {
      "cell_type": "code",
      "metadata": {
        "id": "SKH3rS9zkArE",
        "colab_type": "code",
        "colab": {}
      },
      "source": [
        "# https://matplotlib.org/3.1.0/tutorials/colors/colormaps.html\n",
        "import matplotlib.pyplot as plt\n",
        "import random\n",
        "idx = random.randint(0, 59999)\n",
        "print(y_train[idx])\n",
        "# cmap=\"gray\"\n",
        "plt.imshow(x_train[idx], cmap=\"Reds_r\")"
      ],
      "execution_count": null,
      "outputs": []
    },
    {
      "cell_type": "code",
      "metadata": {
        "id": "k046MbCEkrb8",
        "colab_type": "code",
        "colab": {}
      },
      "source": [
        "import pandas as pd\n",
        "pd.DataFrame(x_train[idx])"
      ],
      "execution_count": null,
      "outputs": []
    }
  ]
}
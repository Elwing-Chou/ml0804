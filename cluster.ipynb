{
  "nbformat": 4,
  "nbformat_minor": 0,
  "metadata": {
    "colab": {
      "name": "cluster.ipynb",
      "provenance": [],
      "private_outputs": true,
      "collapsed_sections": [],
      "authorship_tag": "ABX9TyOe0URR7HMfh8EUgIp2Bi5F",
      "include_colab_link": true
    },
    "kernelspec": {
      "name": "python3",
      "display_name": "Python 3"
    },
    "accelerator": "GPU"
  },
  "cells": [
    {
      "cell_type": "markdown",
      "metadata": {
        "id": "view-in-github",
        "colab_type": "text"
      },
      "source": [
        "<a href=\"https://colab.research.google.com/github/Elwing-Chou/ml0804/blob/master/cluster.ipynb\" target=\"_parent\"><img src=\"https://colab.research.google.com/assets/colab-badge.svg\" alt=\"Open In Colab\"/></a>"
      ]
    },
    {
      "cell_type": "code",
      "metadata": {
        "id": "RuU2x-jdIUgq",
        "colab_type": "code",
        "colab": {}
      },
      "source": [
        "import pandas as pd\n",
        "from sklearn.datasets import load_iris\n",
        "iris = load_iris()\n",
        "df = pd.DataFrame(iris[\"data\"], columns=iris[\"feature_names\"])\n",
        "df"
      ],
      "execution_count": null,
      "outputs": []
    },
    {
      "cell_type": "code",
      "metadata": {
        "id": "BllNAwkviSV3",
        "colab_type": "code",
        "colab": {}
      },
      "source": [
        "from sklearn.cluster import KMeans\n",
        "cluster = KMeans(n_clusters=3)\n",
        "cluster.fit(df)"
      ],
      "execution_count": null,
      "outputs": []
    },
    {
      "cell_type": "code",
      "metadata": {
        "id": "oUOJ_E7MkhG9",
        "colab_type": "code",
        "colab": {}
      },
      "source": [
        "df[\"label\"] = cluster.labels_\n",
        "df.to_csv(\"cluster.csv\", encoding=\"utf-8\", index=False)"
      ],
      "execution_count": null,
      "outputs": []
    },
    {
      "cell_type": "code",
      "metadata": {
        "id": "rr6jJNR3kQSl",
        "colab_type": "code",
        "colab": {}
      },
      "source": [
        "cluster.cluster_centers_"
      ],
      "execution_count": null,
      "outputs": []
    },
    {
      "cell_type": "code",
      "metadata": {
        "id": "9J7HuIjhuu0L",
        "colab_type": "code",
        "colab": {}
      },
      "source": [
        "from sklearn.metrics import silhouette_score\n",
        "for testk in range(2, 10):\n",
        "    test = KMeans(testk)\n",
        "    test.fit(iris[\"data\"])\n",
        "    score = silhouette_score(iris[\"data\"], test.labels_)\n",
        "    print(testk, score)"
      ],
      "execution_count": null,
      "outputs": []
    },
    {
      "cell_type": "code",
      "metadata": {
        "id": "Ra2iL1BnyWO_",
        "colab_type": "code",
        "colab": {}
      },
      "source": [
        "import matplotlib.pyplot as plt\n",
        "import seaborn as sns\n",
        "sns.scatterplot(x=df[\"sepal length (cm)\"],\n",
        "        y=df[\"petal length (cm)\"],\n",
        "        hue=iris[\"target\"])"
      ],
      "execution_count": null,
      "outputs": []
    },
    {
      "cell_type": "code",
      "metadata": {
        "id": "j2GPZ7Tlz0Sv",
        "colab_type": "code",
        "colab": {}
      },
      "source": [
        "cluster = KMeans(n_clusters=4)\n",
        "cluster.fit(iris[\"data\"])\n",
        "sns.scatterplot(x=df[\"sepal length (cm)\"],\n",
        "        y=df[\"petal length (cm)\"],\n",
        "        hue=cluster.labels_)"
      ],
      "execution_count": null,
      "outputs": []
    }
  ]
}
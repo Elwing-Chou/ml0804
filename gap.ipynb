{
  "nbformat": 4,
  "nbformat_minor": 0,
  "metadata": {
    "colab": {
      "name": "gap.ipynb",
      "provenance": [],
      "private_outputs": true,
      "authorship_tag": "ABX9TyOJfoHOVMk0l0HlvN5H4Ein",
      "include_colab_link": true
    },
    "kernelspec": {
      "name": "python3",
      "display_name": "Python 3"
    },
    "accelerator": "GPU"
  },
  "cells": [
    {
      "cell_type": "markdown",
      "metadata": {
        "id": "view-in-github",
        "colab_type": "text"
      },
      "source": [
        "<a href=\"https://colab.research.google.com/github/Elwing-Chou/ml0804/blob/master/gap.ipynb\" target=\"_parent\"><img src=\"https://colab.research.google.com/assets/colab-badge.svg\" alt=\"Open In Colab\"/></a>"
      ]
    },
    {
      "cell_type": "code",
      "metadata": {
        "id": "fGUBFNaaoBu1",
        "colab_type": "code",
        "colab": {}
      },
      "source": [
        "from tensorflow.keras.datasets.cifar10 import load_data\n",
        "(x_train, y_train), (x_test, y_test) = load_data()"
      ],
      "execution_count": null,
      "outputs": []
    },
    {
      "cell_type": "code",
      "metadata": {
        "id": "k4_8pXIyF4XN",
        "colab_type": "code",
        "colab": {}
      },
      "source": [
        "print(x_train.shape)\n",
        "print(y_train.shape)\n",
        "print(x_test.shape)\n",
        "print(y_test.shape)"
      ],
      "execution_count": null,
      "outputs": []
    },
    {
      "cell_type": "code",
      "metadata": {
        "id": "BP_nkmpUG-BU",
        "colab_type": "code",
        "colab": {}
      },
      "source": [
        "trans = [       \n",
        "    \"airplane\",\t\t\t\t\t\t\t\t\t\t\n",
        "    \"automobile\",\t\t\t\t\t\t\t\t\t\t\n",
        "    \"bird\",\t\t\t\t\t\t\t\t\t\t\n",
        "    \"cat\",\t\t\t\t\t\t\t\t\t\t\n",
        "    \"deer\",\t\t\t\t\t\t\t\t\t\t\n",
        "    \"dog\",\t\t\t\t\t\t\t\t\t\t\n",
        "    \"frog\",\t\t\t\t\t\t\t\t\t\t\n",
        "    \"horse\",\t\t\t\t\t\t\t\t\t\t\n",
        "    \"ship\",\t\t\t\t\t\t\t\t\t\t\n",
        "    \"truck\"\n",
        "]"
      ],
      "execution_count": null,
      "outputs": []
    },
    {
      "cell_type": "code",
      "metadata": {
        "id": "_WnIG4AQHSgb",
        "colab_type": "code",
        "colab": {}
      },
      "source": [
        "import matplotlib.pyplot as plt\n",
        "import random\n",
        "idx = random.randint(0, x_train.shape[0])\n",
        "print(\"答案:\", trans[y_train[idx][0]])\n",
        "plt.imshow(x_train[idx])"
      ],
      "execution_count": null,
      "outputs": []
    },
    {
      "cell_type": "code",
      "metadata": {
        "id": "6K8tnCoXJT8y",
        "colab_type": "code",
        "colab": {}
      },
      "source": [
        "from tensorflow.keras.layers import Conv2D, MaxPooling2D, GlobalAveragePooling2D\n",
        "from tensorflow.keras.layers import Flatten, Dense, Dropout\n",
        "from tensorflow.keras.models import Sequential\n",
        "layers = [\n",
        "    Conv2D(64, 3, padding=\"same\", activation=\"relu\", input_shape=(32, 32, 3)),\n",
        "    MaxPooling2D(),\n",
        "    Conv2D(128, 3, padding=\"same\", activation=\"relu\"),\n",
        "    MaxPooling2D(),\n",
        "    Conv2D(256, 3, padding=\"same\", activation=\"relu\"),\n",
        "    GlobalAveragePooling2D(),\n",
        "    Dense(10, activation=\"softmax\")\n",
        "]\n",
        "model = Sequential(layers)\n",
        "model.summary()"
      ],
      "execution_count": null,
      "outputs": []
    },
    {
      "cell_type": "code",
      "metadata": {
        "id": "fe2LZZAkia-L",
        "colab_type": "code",
        "colab": {}
      },
      "source": [
        "from tensorflow.keras.losses import SparseCategoricalCrossentropy\n",
        "model.compile(loss=SparseCategoricalCrossentropy(),\n",
        "       optimizer=\"adam\",\n",
        "       metrics=[\"accuracy\"])"
      ],
      "execution_count": null,
      "outputs": []
    },
    {
      "cell_type": "code",
      "metadata": {
        "id": "ENpdUibdjVrF",
        "colab_type": "code",
        "colab": {}
      },
      "source": [
        "x_train_norm = x_train / 255\n",
        "x_test_norm = x_test / 255"
      ],
      "execution_count": null,
      "outputs": []
    },
    {
      "cell_type": "code",
      "metadata": {
        "id": "y7fN9QFoj3WG",
        "colab_type": "code",
        "colab": {}
      },
      "source": [
        "# batch:看幾筆在調整一次(20-200)\n",
        "# epochs:整份訓練資料看幾遍 (10->60000*10)\n",
        "# verbose: 0(quiet) 1(default) 2(我喜歡的)\n",
        "from tensorflow.keras.callbacks import ModelCheckpoint, EarlyStopping\n",
        "callbacks = [\n",
        "    ModelCheckpoint(\"cnn.h5\", save_best_only=True),\n",
        "    EarlyStopping(patience=10, restore_best_weights=True)\n",
        "]\n",
        "model.fit(x_train_norm,\n",
        "     y_train,\n",
        "     validation_split=0.1,\n",
        "     batch_size=200,\n",
        "     epochs=100,\n",
        "     verbose=2,\n",
        "     callbacks=callbacks)"
      ],
      "execution_count": null,
      "outputs": []
    },
    {
      "cell_type": "code",
      "metadata": {
        "id": "Y-0dnoirkcIw",
        "colab_type": "code",
        "colab": {}
      },
      "source": [
        "model.evaluate(x_test_norm, y_test)"
      ],
      "execution_count": null,
      "outputs": []
    },
    {
      "cell_type": "code",
      "metadata": {
        "id": "tg8nBYJYwVPo",
        "colab_type": "code",
        "colab": {}
      },
      "source": [
        "import pandas as pd\n",
        "from sklearn.metrics import confusion_matrix\n",
        "pre = model.predict_classes(x_test_norm)\n",
        "print(pre.shape)\n",
        "print(y_test.shape)\n",
        "y_test_reshape = y_test.reshape(-1)\n",
        "print(y_test_reshape.shape)\n",
        "mat = confusion_matrix(y_test_reshape, pre)\n",
        "pd.DataFrame(mat, \n",
        "       columns=[\"{}(預測)\".format(trans[i]) for i in range(10)],\n",
        "       index=[\"{}(真實)\".format(trans[i]) for i in range(10)])"
      ],
      "execution_count": null,
      "outputs": []
    },
    {
      "cell_type": "code",
      "metadata": {
        "id": "lr4wsbyLx-7o",
        "colab_type": "code",
        "colab": {}
      },
      "source": [
        "import numpy as np\n",
        "idx = np.nonzero(pre != y_test_reshape)[0]\n",
        "idx = idx[:200]\n",
        "img, label, pred = x_test[idx], y_test_reshape[idx], pre[idx]\n",
        "\n",
        "plt.figure(figsize=(16, 48))\n",
        "width = 10\n",
        "height = len(img) // width + 1\n",
        "for i in range(len(img)):\n",
        "    plt.subplot(height, width, i+1)\n",
        "    t = \"[T]:{}\\n[P]:{}\".format(trans[label[i]], trans[pred[i]])\n",
        "    plt.title(t)\n",
        "    plt.axis(\"off\")\n",
        "    plt.imshow(img[i])"
      ],
      "execution_count": null,
      "outputs": []
    },
    {
      "cell_type": "code",
      "metadata": {
        "id": "VpMAPKa3zXUk",
        "colab_type": "code",
        "colab": {}
      },
      "source": [
        "import requests\n",
        "from PIL import Image\n",
        "\n",
        "url = input(\"輸入網址:\")\n",
        "# stream=True: 檔案傳回來, 不加純文字\n",
        "# stream=True: response.raw stream=False: response.text\n",
        "# verify=False: 別跟我說不安全\n",
        "response = requests.get(url, stream=True, verify=False)\n",
        "img = Image.open(response.raw).resize((32, 32))\n",
        "test = np.array(img).reshape(1, 32, 32, 3) / 255\n",
        "p = model.predict(test)[0]\n",
        "for n, prob in zip(trans, p):\n",
        "    print(n, \"的機率:\", round(prob, 3))\n",
        "ans = model.predict_classes(test)[0]\n",
        "print(\"最高機率:\", trans[ans])\n",
        "plt.imshow(img)"
      ],
      "execution_count": null,
      "outputs": []
    }
  ]
}
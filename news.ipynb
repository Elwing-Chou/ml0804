{
  "nbformat": 4,
  "nbformat_minor": 0,
  "metadata": {
    "colab": {
      "name": "news.ipynb",
      "provenance": [],
      "private_outputs": true,
      "mount_file_id": "12vjuTdIIxEl9yn3_VpslJFgemowuqHiX",
      "authorship_tag": "ABX9TyNY+py6qDwAue433nHupyE1",
      "include_colab_link": true
    },
    "kernelspec": {
      "name": "python3",
      "display_name": "Python 3"
    }
  },
  "cells": [
    {
      "cell_type": "markdown",
      "metadata": {
        "id": "view-in-github",
        "colab_type": "text"
      },
      "source": [
        "<a href=\"https://colab.research.google.com/github/Elwing-Chou/ml0804/blob/master/news.ipynb\" target=\"_parent\"><img src=\"https://colab.research.google.com/assets/colab-badge.svg\" alt=\"Open In Colab\"/></a>"
      ]
    },
    {
      "cell_type": "code",
      "metadata": {
        "id": "AGAFCUBmn29M",
        "colab_type": "code",
        "colab": {}
      },
      "source": [
        "import zipfile\n",
        "path = \"drive/My Drive/news/chinese_news_trans.zip\"\n",
        "f = zipfile.ZipFile(path)\n",
        "f.extractall(\"train\")\n",
        "path = \"drive/My Drive/news/chinese_news_test.zip\"\n",
        "f = zipfile.ZipFile(path)\n",
        "f.extractall(\"test\")"
      ],
      "execution_count": null,
      "outputs": []
    },
    {
      "cell_type": "code",
      "metadata": {
        "id": "iXga2DBDpIEs",
        "colab_type": "code",
        "colab": {}
      },
      "source": [
        "import os\n",
        "import pandas as pd\n",
        "import glob\n",
        "def getdata(base):\n",
        "    contents = []\n",
        "    types = []\n",
        "    for dir in glob.glob(os.path.join(base, \"*\")):\n",
        "        t = os.path.split(dir)[-1]\n",
        "        for fn in glob.glob(os.path.join(dir, \"*.txt\")) + glob.glob(os.path.join(dir, \"*.TXT\")):\n",
        "            with open(fn) as f:\n",
        "                contents.append(f.read())\n",
        "                types.append(t)\n",
        "    df = pd.DataFrame({\n",
        "        \"content\":contents,\n",
        "        \"ans\":types\n",
        "    })\n",
        "    return df\n",
        "train_df = getdata(\"train/chinese_news_trans\")\n",
        "train_df\n",
        "        "
      ],
      "execution_count": null,
      "outputs": []
    },
    {
      "cell_type": "code",
      "metadata": {
        "id": "pA7el4jsre-O",
        "colab_type": "code",
        "colab": {}
      },
      "source": [
        "test_df = getdata(\"test/chinese_news_test\")\n",
        "test_df"
      ],
      "execution_count": null,
      "outputs": []
    }
  ]
}